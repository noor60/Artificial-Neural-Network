{
  "nbformat": 4,
  "nbformat_minor": 0,
  "metadata": {
    "colab": {
      "name": "colour_edited.ipynb",
      "provenance": [],
      "authorship_tag": "ABX9TyMq6/0wwBI6144Vb9ienc3M",
      "include_colab_link": true
    },
    "kernelspec": {
      "name": "python3",
      "display_name": "Python 3"
    },
    "language_info": {
      "name": "python"
    }
  },
  "cells": [
    {
      "cell_type": "markdown",
      "metadata": {
        "id": "view-in-github",
        "colab_type": "text"
      },
      "source": [
        "<a href=\"https://colab.research.google.com/github/noor60/Artificial-Neural-Network/blob/main/colour_edited.ipynb\" target=\"_parent\"><img src=\"https://colab.research.google.com/assets/colab-badge.svg\" alt=\"Open In Colab\"/></a>"
      ]
    },
    {
      "cell_type": "code",
      "metadata": {
        "id": "-vtCf-Mg0gw_"
      },
      "source": [
        "\n",
        "import tensorflow as tf\n",
        "\n",
        "from tensorflow.keras import datasets, layers, models\n",
        "import matplotlib.pyplot as plt\n",
        "import numpy as np\n",
        "import os\n",
        "import PIL\n",
        "import PIL.Image\n",
        "import tensorflow as tf\n",
        "import tensorflow_datasets as tfds\n",
        "import tkinter as tk\n",
        "from tkinter import filedialog\n",
        "from tensorflow.keras.models import Sequential"
      ],
      "execution_count": null,
      "outputs": []
    },
    {
      "cell_type": "code",
      "metadata": {
        "colab": {
          "base_uri": "https://localhost:8080/"
        },
        "id": "xm4B9K_m4RhG",
        "outputId": "53dcbf12-5205-485f-c201-e3b9dfa3c24b"
      },
      "source": [
        "import pathlib\n",
        "import os\n",
        "data_dir = './data' #my data is in content data folder. data--> trian dataset\n",
        "classes = os.listdir(data_dir + \"/train\") # inside the train folder we have 11  folders --> 11 colours\n",
        "\n",
        "print(classes)\n",
        "test_dir = './data/test'\n",
        "from google.colab import files #i had some more directory so i removed it\n",
        "%rmdir '/content/data/train/.ipynb_checkpoints'\n",
        "classes = os.listdir(data_dir + \"/train\") # inside the train folder we have 11  folders --> 11 colours\n",
        "print(classes)"
      ],
      "execution_count": null,
      "outputs": [
        {
          "output_type": "stream",
          "name": "stdout",
          "text": [
            "['black', 'white', '.ipynb_checkpoints']\n",
            "['black', 'white']\n"
          ]
        }
      ]
    },
    {
      "cell_type": "code",
      "metadata": {
        "id": "tblnk0ysCyqB"
      },
      "source": [
        ""
      ],
      "execution_count": null,
      "outputs": []
    },
    {
      "cell_type": "code",
      "metadata": {
        "colab": {
          "base_uri": "https://localhost:8080/"
        },
        "id": "u1sTYqAY4Rj1",
        "outputId": "7bd2ef52-d355-4202-d268-acf759db6e9e"
      },
      "source": [
        "img_height = 200\n",
        "img_width = 200\n",
        "train_ds = tf.keras.preprocessing.image_dataset_from_directory(\n",
        "  data_dir,\n",
        "  validation_split=0.2,\n",
        "  subset=\"training\",\n",
        "  image_size=(img_height, img_width),\n",
        "  seed =123  #If using `validation_split` and shuffling the data, you must provide a `seed` argument, to make sure that there is no overlap between the training and validation subset.\n",
        "  )\n",
        "val_ds = tf.keras.preprocessing.image_dataset_from_directory(\n",
        "  data_dir,\n",
        "  validation_split=0.2,\n",
        "  subset=\"validation\",\n",
        "   seed =123,\n",
        "  \n",
        "  image_size=(img_height, img_width))"
      ],
      "execution_count": null,
      "outputs": [
        {
          "output_type": "stream",
          "name": "stdout",
          "text": [
            "Found 1024 files belonging to 2 classes.\n",
            "Using 820 files for training.\n",
            "Found 1024 files belonging to 2 classes.\n",
            "Using 204 files for validation.\n"
          ]
        }
      ]
    },
    {
      "cell_type": "code",
      "metadata": {
        "id": "SWPXt_He4Rpe"
      },
      "source": [
        "num_classes=2\n",
        "model = tf.keras.models.Sequential([\n",
        "# Note the input shape is the desired size of the image 200x200 with 3 bytes color\n",
        "# This is the first convolution\n",
        "tf.keras.layers.Conv2D(16, (3,3), activation='relu', input_shape=(200, 200, 3)),\n",
        "tf.keras.layers.MaxPooling2D(2, 2),\n",
        "# The second convolution\n",
        "tf.keras.layers.Conv2D(32, (3,3), activation='relu'),\n",
        "tf.keras.layers.MaxPooling2D(2,2),\n",
        "# The third convolution\n",
        "tf.keras.layers.Conv2D(64, (3,3), activation='relu'),\n",
        "tf.keras.layers.MaxPooling2D(2,2),\n",
        "# The fourth convolution\n",
        "tf.keras.layers.Conv2D(64, (3,3), activation='relu'),\n",
        "tf.keras.layers.MaxPooling2D(2,2),\n",
        "# # The fifth convolution\n",
        "tf.keras.layers.Conv2D(64, (3,3), activation='relu'),\n",
        "tf.keras.layers.MaxPooling2D(2,2),\n",
        "# Flatten the results to feed into a DNN\n",
        "tf.keras.layers.Flatten(),\n",
        "# 512 neuron hidden layer\n",
        "tf.keras.layers.Dense(512, activation='relu'),\n",
        "# Only 1 output neuron. It will contain a value from 0-1 where 0 for 1 class ('dandelions') and 1 for the other ('grass')\n",
        "tf.keras.layers.Dense(1, activation='sigmoid') ])"
      ],
      "execution_count": null,
      "outputs": []
    },
    {
      "cell_type": "code",
      "metadata": {
        "id": "6flHuAnT_sXi"
      },
      "source": [
        "\n",
        "model.compile(optimizer='adam',\n",
        "              loss='binary_crossentropy',\n",
        "              metrics=['accuracy'])"
      ],
      "execution_count": null,
      "outputs": []
    },
    {
      "cell_type": "code",
      "metadata": {
        "colab": {
          "base_uri": "https://localhost:8080/"
        },
        "id": "xgc8yLY6_saZ",
        "outputId": "e240e06f-44ea-4793-e3bf-c7adafcbe857"
      },
      "source": [
        "epochs=3\n",
        "mymodel = model.fit(\n",
        "    train_ds,\n",
        "    validation_data = val_ds,\n",
        "    epochs = epochs)"
      ],
      "execution_count": null,
      "outputs": [
        {
          "output_type": "stream",
          "name": "stdout",
          "text": [
            "Epoch 1/3\n",
            "26/26 [==============================] - 35s 1s/step - loss: 0.9769 - accuracy: 0.9610 - val_loss: 7.2533e-04 - val_accuracy: 1.0000\n",
            "Epoch 2/3\n",
            "26/26 [==============================] - 34s 1s/step - loss: 1.1613e-04 - accuracy: 1.0000 - val_loss: 4.4399e-06 - val_accuracy: 1.0000\n",
            "Epoch 3/3\n",
            "26/26 [==============================] - 34s 1s/step - loss: 1.8842e-06 - accuracy: 1.0000 - val_loss: 1.2763e-06 - val_accuracy: 1.0000\n"
          ]
        }
      ]
    },
    {
      "cell_type": "code",
      "metadata": {
        "colab": {
          "base_uri": "https://localhost:8080/",
          "height": 499
        },
        "id": "6dkUtQyrHbAD",
        "outputId": "dd9e7c53-ca1d-43c0-c81e-0d53402823c6"
      },
      "source": [
        "acc = mymodel.history['accuracy']\n",
        "val_acc = mymodel.history['val_accuracy']\n",
        "\n",
        "loss = mymodel.history['loss']\n",
        "val_loss = mymodel.history['val_loss']\n",
        "\n",
        "epochs_range = range(epochs)\n",
        "\n",
        "plt.figure(figsize=(8, 8))\n",
        "plt.subplot(1, 2, 1)\n",
        "plt.plot(epochs_range, acc, label='Training Accuracy')\n",
        "plt.plot(epochs_range, val_acc, label='Validation Accuracy')\n",
        "plt.legend(loc='lower right')\n",
        "plt.title('Training and Validation Accuracy')\n",
        "\n",
        "plt.subplot(1, 2, 2)\n",
        "plt.plot(epochs_range, loss, label='Training Loss')\n",
        "plt.plot(epochs_range, val_loss, label='Validation Loss')\n",
        "plt.legend(loc='upper right')\n",
        "plt.title('Training and Validation Loss')\n",
        "plt.show()"
      ],
      "execution_count": null,
      "outputs": [
        {
          "output_type": "display_data",
          "data": {
            "image/png": "[encoded data removed]",
            "text/plain": [
              "<Figure size 576x576 with 2 Axes>"
            ]
          },
          "metadata": {
            "needs_background": "light"
          }
        }
      ]
    },
    {
      "cell_type": "code",
      "metadata": {
        "colab": {
          "base_uri": "https://localhost:8080/"
        },
        "id": "Mwdkukd9IiEi",
        "outputId": "fc0ee2dc-2f56-4cf4-9607-1de01f72323f"
      },
      "source": [
        "from PIL import Image\n",
        "from tensorflow import keras\n",
        "import glob\n",
        "import cv2\n",
        "class_names = classes\n",
        "print(class_names)\n",
        "path = '/content/data/test/black/6.jpeg'\n",
        "\n",
        "img = keras.preprocessing.image.load_img(path, target_size=(img_height,img_width))\n",
        "img_array = tf.keras.preprocessing.image.img_to_array(img)\n",
        "img_array =tf.expand_dims(img_array,0)\n",
        "prediction=model.predict(img_array)\n",
        "score=tf.nn.softmax(prediction[0])\n",
        "print(\"this image most likely lo belong to \",[class_names[np.argmax(score)]],'with confidence ', 100*np.max(score))"
      ],
      "execution_count": null,
      "outputs": [
        {
          "output_type": "stream",
          "name": "stdout",
          "text": [
            "['black', 'white']\n",
            "this image most likely lo belong to  ['black'] with confidence  100.0\n"
          ]
        }
      ]
    }
  ]
}